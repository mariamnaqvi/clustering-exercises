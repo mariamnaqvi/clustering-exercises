{
 "cells": [
  {
   "cell_type": "code",
   "execution_count": 43,
   "metadata": {},
   "outputs": [],
   "source": [
    "import pandas as pd\n",
    "import numpy as np\n",
    "import os\n",
    "\n",
    "import matplotlib.pyplot as plt\n",
    "import seaborn as sns\n",
    "import scipy.stats as stats\n",
    "# use get_db_url function to connect to the codeup db\n",
    "from env import get_db_url\n",
    "from sklearn.impute import SimpleImputer\n",
    "\n",
    "# custom module imports\n",
    "import acquire as aq\n",
    "import wrangle_zillow as wz"
   ]
  },
  {
   "cell_type": "markdown",
   "metadata": {},
   "source": [
    "### 1. Acquire data from mySQL using the python module to connect and query. You will want to end with a single dataframe. Make sure to include: the logerror, all fields related to the properties that are available. You will end up using all the tables in the database.\n",
    "\n",
    "- Be sure to do the correct join (inner, outer, etc.). We do not want to eliminate properties purely because they may have a null value for airconditioningtypeid.\n",
    "- Only include properties with a transaction in 2017, and include only the last transaction for each property (so no duplicate property ID's), along with zestimate error and date of transaction.\n",
    "- Only include properties that include a latitude and longitude value."
   ]
  },
  {
   "cell_type": "code",
   "execution_count": 44,
   "metadata": {},
   "outputs": [],
   "source": [
    "df = aq.get_zillow_data()"
   ]
  },
  {
   "cell_type": "code",
   "execution_count": 45,
   "metadata": {},
   "outputs": [
    {
     "data": {
      "text/html": [
       "<div>\n",
       "<style scoped>\n",
       "    .dataframe tbody tr th:only-of-type {\n",
       "        vertical-align: middle;\n",
       "    }\n",
       "\n",
       "    .dataframe tbody tr th {\n",
       "        vertical-align: top;\n",
       "    }\n",
       "\n",
       "    .dataframe thead th {\n",
       "        text-align: right;\n",
       "    }\n",
       "</style>\n",
       "<table border=\"1\" class=\"dataframe\">\n",
       "  <thead>\n",
       "    <tr style=\"text-align: right;\">\n",
       "      <th></th>\n",
       "      <th>parcelid</th>\n",
       "      <th>heatingorsystemtypeid</th>\n",
       "      <th>architecturalstyletypeid</th>\n",
       "      <th>buildingclasstypeid</th>\n",
       "      <th>airconditioningtypeid</th>\n",
       "      <th>id</th>\n",
       "      <th>logerror</th>\n",
       "      <th>transactiondate</th>\n",
       "      <th>id</th>\n",
       "      <th>basementsqft</th>\n",
       "      <th>...</th>\n",
       "      <th>propertylandusetypeid</th>\n",
       "      <th>propertylandusedesc</th>\n",
       "      <th>architecturalstyledesc</th>\n",
       "      <th>heatingorsystemdesc</th>\n",
       "      <th>storytypeid</th>\n",
       "      <th>storydesc</th>\n",
       "      <th>typeconstructiontypeid</th>\n",
       "      <th>typeconstructiondesc</th>\n",
       "      <th>logerror</th>\n",
       "      <th>transactiondate</th>\n",
       "    </tr>\n",
       "  </thead>\n",
       "  <tbody>\n",
       "    <tr>\n",
       "      <th>0</th>\n",
       "      <td>14297519</td>\n",
       "      <td>NaN</td>\n",
       "      <td>NaN</td>\n",
       "      <td>NaN</td>\n",
       "      <td>NaN</td>\n",
       "      <td>0</td>\n",
       "      <td>0.025595</td>\n",
       "      <td>2017-01-01</td>\n",
       "      <td>1727539</td>\n",
       "      <td>NaN</td>\n",
       "      <td>...</td>\n",
       "      <td>261</td>\n",
       "      <td>Single Family Residential</td>\n",
       "      <td>None</td>\n",
       "      <td>None</td>\n",
       "      <td>NaN</td>\n",
       "      <td>None</td>\n",
       "      <td>NaN</td>\n",
       "      <td>None</td>\n",
       "      <td>0.025595</td>\n",
       "      <td>2017-01-01</td>\n",
       "    </tr>\n",
       "    <tr>\n",
       "      <th>1</th>\n",
       "      <td>17052889</td>\n",
       "      <td>NaN</td>\n",
       "      <td>NaN</td>\n",
       "      <td>NaN</td>\n",
       "      <td>NaN</td>\n",
       "      <td>1</td>\n",
       "      <td>0.055619</td>\n",
       "      <td>2017-01-01</td>\n",
       "      <td>1387261</td>\n",
       "      <td>NaN</td>\n",
       "      <td>...</td>\n",
       "      <td>261</td>\n",
       "      <td>Single Family Residential</td>\n",
       "      <td>None</td>\n",
       "      <td>None</td>\n",
       "      <td>NaN</td>\n",
       "      <td>None</td>\n",
       "      <td>NaN</td>\n",
       "      <td>None</td>\n",
       "      <td>0.055619</td>\n",
       "      <td>2017-01-01</td>\n",
       "    </tr>\n",
       "    <tr>\n",
       "      <th>2</th>\n",
       "      <td>14186244</td>\n",
       "      <td>NaN</td>\n",
       "      <td>NaN</td>\n",
       "      <td>NaN</td>\n",
       "      <td>NaN</td>\n",
       "      <td>2</td>\n",
       "      <td>0.005383</td>\n",
       "      <td>2017-01-01</td>\n",
       "      <td>11677</td>\n",
       "      <td>NaN</td>\n",
       "      <td>...</td>\n",
       "      <td>261</td>\n",
       "      <td>Single Family Residential</td>\n",
       "      <td>None</td>\n",
       "      <td>None</td>\n",
       "      <td>NaN</td>\n",
       "      <td>None</td>\n",
       "      <td>NaN</td>\n",
       "      <td>None</td>\n",
       "      <td>0.005383</td>\n",
       "      <td>2017-01-01</td>\n",
       "    </tr>\n",
       "    <tr>\n",
       "      <th>3</th>\n",
       "      <td>12177905</td>\n",
       "      <td>2.0</td>\n",
       "      <td>NaN</td>\n",
       "      <td>NaN</td>\n",
       "      <td>NaN</td>\n",
       "      <td>3</td>\n",
       "      <td>-0.103410</td>\n",
       "      <td>2017-01-01</td>\n",
       "      <td>2288172</td>\n",
       "      <td>NaN</td>\n",
       "      <td>...</td>\n",
       "      <td>261</td>\n",
       "      <td>Single Family Residential</td>\n",
       "      <td>None</td>\n",
       "      <td>Central</td>\n",
       "      <td>NaN</td>\n",
       "      <td>None</td>\n",
       "      <td>NaN</td>\n",
       "      <td>None</td>\n",
       "      <td>-0.103410</td>\n",
       "      <td>2017-01-01</td>\n",
       "    </tr>\n",
       "    <tr>\n",
       "      <th>4</th>\n",
       "      <td>10887214</td>\n",
       "      <td>2.0</td>\n",
       "      <td>NaN</td>\n",
       "      <td>NaN</td>\n",
       "      <td>1.0</td>\n",
       "      <td>4</td>\n",
       "      <td>0.006940</td>\n",
       "      <td>2017-01-01</td>\n",
       "      <td>1970746</td>\n",
       "      <td>NaN</td>\n",
       "      <td>...</td>\n",
       "      <td>266</td>\n",
       "      <td>Condominium</td>\n",
       "      <td>None</td>\n",
       "      <td>Central</td>\n",
       "      <td>NaN</td>\n",
       "      <td>None</td>\n",
       "      <td>NaN</td>\n",
       "      <td>None</td>\n",
       "      <td>0.006940</td>\n",
       "      <td>2017-01-01</td>\n",
       "    </tr>\n",
       "  </tbody>\n",
       "</table>\n",
       "<p>5 rows × 74 columns</p>\n",
       "</div>"
      ],
      "text/plain": [
       "   parcelid  heatingorsystemtypeid  architecturalstyletypeid  \\\n",
       "0  14297519                    NaN                       NaN   \n",
       "1  17052889                    NaN                       NaN   \n",
       "2  14186244                    NaN                       NaN   \n",
       "3  12177905                    2.0                       NaN   \n",
       "4  10887214                    2.0                       NaN   \n",
       "\n",
       "   buildingclasstypeid  airconditioningtypeid  id  logerror  transactiondate  \\\n",
       "0                  NaN                    NaN   0  0.025595       2017-01-01   \n",
       "1                  NaN                    NaN   1  0.055619       2017-01-01   \n",
       "2                  NaN                    NaN   2  0.005383       2017-01-01   \n",
       "3                  NaN                    NaN   3 -0.103410       2017-01-01   \n",
       "4                  NaN                    1.0   4  0.006940       2017-01-01   \n",
       "\n",
       "        id  basementsqft  ...  propertylandusetypeid  \\\n",
       "0  1727539           NaN  ...                    261   \n",
       "1  1387261           NaN  ...                    261   \n",
       "2    11677           NaN  ...                    261   \n",
       "3  2288172           NaN  ...                    261   \n",
       "4  1970746           NaN  ...                    266   \n",
       "\n",
       "         propertylandusedesc  architecturalstyledesc  heatingorsystemdesc  \\\n",
       "0  Single Family Residential                    None                 None   \n",
       "1  Single Family Residential                    None                 None   \n",
       "2  Single Family Residential                    None                 None   \n",
       "3  Single Family Residential                    None              Central   \n",
       "4                Condominium                    None              Central   \n",
       "\n",
       "   storytypeid  storydesc  typeconstructiontypeid  typeconstructiondesc  \\\n",
       "0          NaN       None                     NaN                  None   \n",
       "1          NaN       None                     NaN                  None   \n",
       "2          NaN       None                     NaN                  None   \n",
       "3          NaN       None                     NaN                  None   \n",
       "4          NaN       None                     NaN                  None   \n",
       "\n",
       "   logerror  transactiondate  \n",
       "0  0.025595       2017-01-01  \n",
       "1  0.055619       2017-01-01  \n",
       "2  0.005383       2017-01-01  \n",
       "3 -0.103410       2017-01-01  \n",
       "4  0.006940       2017-01-01  \n",
       "\n",
       "[5 rows x 74 columns]"
      ]
     },
     "execution_count": 45,
     "metadata": {},
     "output_type": "execute_result"
    }
   ],
   "source": [
    "df.head()"
   ]
  },
  {
   "cell_type": "markdown",
   "metadata": {},
   "source": [
    "### 2. Summarize your data (summary stats, info, dtypes, shape, distributions, value_counts, etc.)"
   ]
  },
  {
   "cell_type": "code",
   "execution_count": 46,
   "metadata": {},
   "outputs": [
    {
     "data": {
      "text/plain": [
       "(77579, 74)"
      ]
     },
     "execution_count": 46,
     "metadata": {},
     "output_type": "execute_result"
    }
   ],
   "source": [
    "df.shape"
   ]
  },
  {
   "cell_type": "code",
   "execution_count": 47,
   "metadata": {},
   "outputs": [
    {
     "name": "stdout",
     "output_type": "stream",
     "text": [
      "<class 'pandas.core.frame.DataFrame'>\n",
      "RangeIndex: 77579 entries, 0 to 77578\n",
      "Data columns (total 74 columns):\n",
      " #   Column                        Non-Null Count  Dtype  \n",
      "---  ------                        --------------  -----  \n",
      " 0   parcelid                      77579 non-null  int64  \n",
      " 1   heatingorsystemtypeid         49571 non-null  float64\n",
      " 2   architecturalstyletypeid      207 non-null    float64\n",
      " 3   buildingclasstypeid           15 non-null     float64\n",
      " 4   airconditioningtypeid         25007 non-null  float64\n",
      " 5   id                            77579 non-null  int64  \n",
      " 6   logerror                      77579 non-null  float64\n",
      " 7   transactiondate               77579 non-null  object \n",
      " 8   id                            77579 non-null  int64  \n",
      " 9   basementsqft                  50 non-null     float64\n",
      " 10  bathroomcnt                   77579 non-null  float64\n",
      " 11  bedroomcnt                    77579 non-null  float64\n",
      " 12  buildingqualitytypeid         49809 non-null  float64\n",
      " 13  calculatedbathnbr             76963 non-null  float64\n",
      " 14  decktypeid                    614 non-null    float64\n",
      " 15  finishedfloor1squarefeet      6037 non-null   float64\n",
      " 16  calculatedfinishedsquarefeet  77378 non-null  float64\n",
      " 17  finishedsquarefeet12          73923 non-null  float64\n",
      " 18  finishedsquarefeet13          42 non-null     float64\n",
      " 19  finishedsquarefeet15          3027 non-null   float64\n",
      " 20  finishedsquarefeet50          6037 non-null   float64\n",
      " 21  finishedsquarefeet6           386 non-null    float64\n",
      " 22  fips                          77579 non-null  float64\n",
      " 23  fireplacecnt                  8289 non-null   float64\n",
      " 24  fullbathcnt                   76963 non-null  float64\n",
      " 25  garagecarcnt                  25520 non-null  float64\n",
      " 26  garagetotalsqft               25520 non-null  float64\n",
      " 27  hashottuborspa                1539 non-null   float64\n",
      " 28  latitude                      77579 non-null  float64\n",
      " 29  longitude                     77579 non-null  float64\n",
      " 30  lotsizesquarefeet             69321 non-null  float64\n",
      " 31  poolcnt                       16174 non-null  float64\n",
      " 32  poolsizesum                   869 non-null    float64\n",
      " 33  pooltypeid10                  465 non-null    float64\n",
      " 34  pooltypeid2                   1074 non-null   float64\n",
      " 35  pooltypeid7                   15079 non-null  float64\n",
      " 36  propertycountylandusecode     77579 non-null  object \n",
      " 37  propertylandusetypeid         77579 non-null  float64\n",
      " 38  propertyzoningdesc            50476 non-null  object \n",
      " 39  rawcensustractandblock        77579 non-null  float64\n",
      " 40  regionidcity                  76107 non-null  float64\n",
      " 41  regionidcounty                77579 non-null  float64\n",
      " 42  regionidneighborhood          30974 non-null  float64\n",
      " 43  regionidzip                   77529 non-null  float64\n",
      " 44  roomcnt                       77579 non-null  float64\n",
      " 45  storytypeid                   50 non-null     float64\n",
      " 46  threequarterbathnbr           10106 non-null  float64\n",
      " 47  typeconstructiontypeid        223 non-null    float64\n",
      " 48  unitcnt                       50703 non-null  float64\n",
      " 49  yardbuildingsqft17            2393 non-null   float64\n",
      " 50  yardbuildingsqft26            70 non-null     float64\n",
      " 51  yearbuilt                     77309 non-null  float64\n",
      " 52  numberofstories               17599 non-null  float64\n",
      " 53  fireplaceflag                 172 non-null    float64\n",
      " 54  structuretaxvaluedollarcnt    77464 non-null  float64\n",
      " 55  taxvaluedollarcnt             77578 non-null  float64\n",
      " 56  assessmentyear                77579 non-null  float64\n",
      " 57  landtaxvaluedollarcnt         77577 non-null  float64\n",
      " 58  taxamount                     77574 non-null  float64\n",
      " 59  taxdelinquencyflag            2900 non-null   object \n",
      " 60  taxdelinquencyyear            2900 non-null   float64\n",
      " 61  censustractandblock           77332 non-null  float64\n",
      " 62  airconditioningdesc           25007 non-null  object \n",
      " 63  buildingclassdesc             15 non-null     object \n",
      " 64  propertylandusetypeid         77579 non-null  int64  \n",
      " 65  propertylandusedesc           77579 non-null  object \n",
      " 66  architecturalstyledesc        207 non-null    object \n",
      " 67  heatingorsystemdesc           49571 non-null  object \n",
      " 68  storytypeid                   50 non-null     float64\n",
      " 69  storydesc                     50 non-null     object \n",
      " 70  typeconstructiontypeid        223 non-null    float64\n",
      " 71  typeconstructiondesc          223 non-null    object \n",
      " 72  logerror                      77579 non-null  float64\n",
      " 73  transactiondate               77579 non-null  object \n",
      "dtypes: float64(58), int64(4), object(12)\n",
      "memory usage: 43.8+ MB\n"
     ]
    }
   ],
   "source": [
    "df.info()"
   ]
  },
  {
   "cell_type": "code",
   "execution_count": 48,
   "metadata": {},
   "outputs": [
    {
     "data": {
      "text/plain": [
       "10857130    3\n",
       "11991059    3\n",
       "12612211    3\n",
       "11429175    2\n",
       "13863275    2\n",
       "           ..\n",
       "13968654    1\n",
       "12659983    1\n",
       "14154852    1\n",
       "11388525    1\n",
       "14298875    1\n",
       "Name: parcelid, Length: 77381, dtype: int64"
      ]
     },
     "execution_count": 48,
     "metadata": {},
     "output_type": "execute_result"
    }
   ],
   "source": [
    "# check dup parcelid\n",
    "df.parcelid.value_counts()"
   ]
  },
  {
   "cell_type": "code",
   "execution_count": 49,
   "metadata": {},
   "outputs": [],
   "source": [
    "# drop dupplicate columns\n",
    "df = df.loc[:,~df.columns.duplicated()]"
   ]
  },
  {
   "cell_type": "code",
   "execution_count": 50,
   "metadata": {},
   "outputs": [],
   "source": [
    "# drop duplicate parcelid keeping the latest one by transaction date\n",
    "df = df.sort_values('transactiondate').drop_duplicates('parcelid',keep='last')"
   ]
  },
  {
   "cell_type": "markdown",
   "metadata": {},
   "source": [
    "### 3. Write a function that takes in a dataframe of observations and attributes and returns a dataframe where each row is an atttribute name, the first column is the number of rows with missing values for that attribute, and the second column is percent of total rows that have missing values for that attribute. Run the function and document takeaways from this on how you want to handle missing values."
   ]
  },
  {
   "cell_type": "code",
   "execution_count": 51,
   "metadata": {},
   "outputs": [],
   "source": [
    "def nulls_by_col(df):\n",
    "    # get column names paired with number of nulls in that column\n",
    "    num_missing = df.isnull().sum()\n",
    "    rows = df.shape[0]\n",
    "    # calculate percentage of rows missing for each column\n",
    "    prcnt_miss = num_missing / rows * 100\n",
    "    # create a dataframe with the info\n",
    "    cols_missing = pd.DataFrame({'num_rows_missing': num_missing, \n",
    "                                 'percent_rows_missing': prcnt_miss})\n",
    "    return cols_missing"
   ]
  },
  {
   "cell_type": "code",
   "execution_count": 52,
   "metadata": {},
   "outputs": [
    {
     "data": {
      "text/html": [
       "<div>\n",
       "<style scoped>\n",
       "    .dataframe tbody tr th:only-of-type {\n",
       "        vertical-align: middle;\n",
       "    }\n",
       "\n",
       "    .dataframe tbody tr th {\n",
       "        vertical-align: top;\n",
       "    }\n",
       "\n",
       "    .dataframe thead th {\n",
       "        text-align: right;\n",
       "    }\n",
       "</style>\n",
       "<table border=\"1\" class=\"dataframe\">\n",
       "  <thead>\n",
       "    <tr style=\"text-align: right;\">\n",
       "      <th></th>\n",
       "      <th>num_rows_missing</th>\n",
       "      <th>percent_rows_missing</th>\n",
       "    </tr>\n",
       "  </thead>\n",
       "  <tbody>\n",
       "    <tr>\n",
       "      <th>parcelid</th>\n",
       "      <td>0</td>\n",
       "      <td>0.000000</td>\n",
       "    </tr>\n",
       "    <tr>\n",
       "      <th>heatingorsystemtypeid</th>\n",
       "      <td>27941</td>\n",
       "      <td>36.108347</td>\n",
       "    </tr>\n",
       "    <tr>\n",
       "      <th>architecturalstyletypeid</th>\n",
       "      <td>77175</td>\n",
       "      <td>99.733785</td>\n",
       "    </tr>\n",
       "    <tr>\n",
       "      <th>buildingclasstypeid</th>\n",
       "      <td>77366</td>\n",
       "      <td>99.980615</td>\n",
       "    </tr>\n",
       "    <tr>\n",
       "      <th>airconditioningtypeid</th>\n",
       "      <td>52428</td>\n",
       "      <td>67.753066</td>\n",
       "    </tr>\n",
       "    <tr>\n",
       "      <th>...</th>\n",
       "      <td>...</td>\n",
       "      <td>...</td>\n",
       "    </tr>\n",
       "    <tr>\n",
       "      <th>propertylandusedesc</th>\n",
       "      <td>0</td>\n",
       "      <td>0.000000</td>\n",
       "    </tr>\n",
       "    <tr>\n",
       "      <th>architecturalstyledesc</th>\n",
       "      <td>77175</td>\n",
       "      <td>99.733785</td>\n",
       "    </tr>\n",
       "    <tr>\n",
       "      <th>heatingorsystemdesc</th>\n",
       "      <td>27941</td>\n",
       "      <td>36.108347</td>\n",
       "    </tr>\n",
       "    <tr>\n",
       "      <th>storydesc</th>\n",
       "      <td>77331</td>\n",
       "      <td>99.935385</td>\n",
       "    </tr>\n",
       "    <tr>\n",
       "      <th>typeconstructiondesc</th>\n",
       "      <td>77159</td>\n",
       "      <td>99.713108</td>\n",
       "    </tr>\n",
       "  </tbody>\n",
       "</table>\n",
       "<p>68 rows × 2 columns</p>\n",
       "</div>"
      ],
      "text/plain": [
       "                          num_rows_missing  percent_rows_missing\n",
       "parcelid                                 0              0.000000\n",
       "heatingorsystemtypeid                27941             36.108347\n",
       "architecturalstyletypeid             77175             99.733785\n",
       "buildingclasstypeid                  77366             99.980615\n",
       "airconditioningtypeid                52428             67.753066\n",
       "...                                    ...                   ...\n",
       "propertylandusedesc                      0              0.000000\n",
       "architecturalstyledesc               77175             99.733785\n",
       "heatingorsystemdesc                  27941             36.108347\n",
       "storydesc                            77331             99.935385\n",
       "typeconstructiondesc                 77159             99.713108\n",
       "\n",
       "[68 rows x 2 columns]"
      ]
     },
     "execution_count": 52,
     "metadata": {},
     "output_type": "execute_result"
    }
   ],
   "source": [
    "nulls_by_col(df)"
   ]
  },
  {
   "cell_type": "markdown",
   "metadata": {},
   "source": [
    "### Takeaways\n",
    "\n",
    "- varied number of null values\n",
    "- drop columns that have more than 50% missing values"
   ]
  },
  {
   "cell_type": "markdown",
   "metadata": {},
   "source": [
    "### 4. Write a function that takes in a dataframe and returns a dataframe with 3 columns: the number of columns missing, percent of columns missing, and number of rows with n columns missing. Run the function and document takeaways from this on how you want to handle missing values."
   ]
  },
  {
   "cell_type": "code",
   "execution_count": 53,
   "metadata": {},
   "outputs": [],
   "source": [
    "def nulls_by_row(df):\n",
    "    # number of columns with missing values in each row\n",
    "    num_missing = df.isnull().sum(axis = 1)\n",
    "    prcnt_miss = num_missing / df.shape[1] * 100\n",
    "    rows_missing = pd.DataFrame({'num_cols_missing': num_missing, \n",
    "                                 'percent_cols_missing': prcnt_miss})\\\n",
    "    .reset_index()\\\n",
    "    .groupby(['num_cols_missing', 'percent_cols_missing']).count()\\\n",
    "    .rename(index=str, columns={'index': 'num_rows'}).reset_index().set_index('num_cols_missing')\n",
    "    return rows_missing"
   ]
  },
  {
   "cell_type": "code",
   "execution_count": 54,
   "metadata": {},
   "outputs": [
    {
     "data": {
      "text/html": [
       "<div>\n",
       "<style scoped>\n",
       "    .dataframe tbody tr th:only-of-type {\n",
       "        vertical-align: middle;\n",
       "    }\n",
       "\n",
       "    .dataframe tbody tr th {\n",
       "        vertical-align: top;\n",
       "    }\n",
       "\n",
       "    .dataframe thead th {\n",
       "        text-align: right;\n",
       "    }\n",
       "</style>\n",
       "<table border=\"1\" class=\"dataframe\">\n",
       "  <thead>\n",
       "    <tr style=\"text-align: right;\">\n",
       "      <th></th>\n",
       "      <th>percent_cols_missing</th>\n",
       "      <th>num_rows</th>\n",
       "    </tr>\n",
       "    <tr>\n",
       "      <th>num_cols_missing</th>\n",
       "      <th></th>\n",
       "      <th></th>\n",
       "    </tr>\n",
       "  </thead>\n",
       "  <tbody>\n",
       "    <tr>\n",
       "      <th>23</th>\n",
       "      <td>33.82352941176471</td>\n",
       "      <td>2</td>\n",
       "    </tr>\n",
       "    <tr>\n",
       "      <th>24</th>\n",
       "      <td>35.294117647058826</td>\n",
       "      <td>13</td>\n",
       "    </tr>\n",
       "    <tr>\n",
       "      <th>25</th>\n",
       "      <td>36.76470588235294</td>\n",
       "      <td>24</td>\n",
       "    </tr>\n",
       "    <tr>\n",
       "      <th>26</th>\n",
       "      <td>38.23529411764706</td>\n",
       "      <td>65</td>\n",
       "    </tr>\n",
       "    <tr>\n",
       "      <th>27</th>\n",
       "      <td>39.705882352941174</td>\n",
       "      <td>316</td>\n",
       "    </tr>\n",
       "    <tr>\n",
       "      <th>28</th>\n",
       "      <td>41.17647058823529</td>\n",
       "      <td>455</td>\n",
       "    </tr>\n",
       "    <tr>\n",
       "      <th>29</th>\n",
       "      <td>42.64705882352941</td>\n",
       "      <td>5270</td>\n",
       "    </tr>\n",
       "    <tr>\n",
       "      <th>30</th>\n",
       "      <td>44.11764705882353</td>\n",
       "      <td>3455</td>\n",
       "    </tr>\n",
       "    <tr>\n",
       "      <th>31</th>\n",
       "      <td>45.588235294117645</td>\n",
       "      <td>9891</td>\n",
       "    </tr>\n",
       "    <tr>\n",
       "      <th>32</th>\n",
       "      <td>47.05882352941176</td>\n",
       "      <td>12579</td>\n",
       "    </tr>\n",
       "    <tr>\n",
       "      <th>33</th>\n",
       "      <td>48.529411764705884</td>\n",
       "      <td>14782</td>\n",
       "    </tr>\n",
       "    <tr>\n",
       "      <th>34</th>\n",
       "      <td>50.0</td>\n",
       "      <td>13327</td>\n",
       "    </tr>\n",
       "    <tr>\n",
       "      <th>35</th>\n",
       "      <td>51.470588235294116</td>\n",
       "      <td>5148</td>\n",
       "    </tr>\n",
       "    <tr>\n",
       "      <th>36</th>\n",
       "      <td>52.94117647058824</td>\n",
       "      <td>5775</td>\n",
       "    </tr>\n",
       "    <tr>\n",
       "      <th>37</th>\n",
       "      <td>54.41176470588235</td>\n",
       "      <td>3620</td>\n",
       "    </tr>\n",
       "    <tr>\n",
       "      <th>38</th>\n",
       "      <td>55.88235294117647</td>\n",
       "      <td>1925</td>\n",
       "    </tr>\n",
       "    <tr>\n",
       "      <th>39</th>\n",
       "      <td>57.35294117647059</td>\n",
       "      <td>285</td>\n",
       "    </tr>\n",
       "    <tr>\n",
       "      <th>40</th>\n",
       "      <td>58.82352941176471</td>\n",
       "      <td>230</td>\n",
       "    </tr>\n",
       "    <tr>\n",
       "      <th>41</th>\n",
       "      <td>60.29411764705882</td>\n",
       "      <td>29</td>\n",
       "    </tr>\n",
       "    <tr>\n",
       "      <th>42</th>\n",
       "      <td>61.76470588235294</td>\n",
       "      <td>23</td>\n",
       "    </tr>\n",
       "    <tr>\n",
       "      <th>43</th>\n",
       "      <td>63.23529411764706</td>\n",
       "      <td>28</td>\n",
       "    </tr>\n",
       "    <tr>\n",
       "      <th>44</th>\n",
       "      <td>64.70588235294117</td>\n",
       "      <td>78</td>\n",
       "    </tr>\n",
       "    <tr>\n",
       "      <th>45</th>\n",
       "      <td>66.17647058823529</td>\n",
       "      <td>50</td>\n",
       "    </tr>\n",
       "    <tr>\n",
       "      <th>46</th>\n",
       "      <td>67.64705882352942</td>\n",
       "      <td>5</td>\n",
       "    </tr>\n",
       "    <tr>\n",
       "      <th>47</th>\n",
       "      <td>69.11764705882352</td>\n",
       "      <td>3</td>\n",
       "    </tr>\n",
       "    <tr>\n",
       "      <th>48</th>\n",
       "      <td>70.58823529411765</td>\n",
       "      <td>3</td>\n",
       "    </tr>\n",
       "  </tbody>\n",
       "</table>\n",
       "</div>"
      ],
      "text/plain": [
       "                 percent_cols_missing  num_rows\n",
       "num_cols_missing                               \n",
       "23                  33.82352941176471         2\n",
       "24                 35.294117647058826        13\n",
       "25                  36.76470588235294        24\n",
       "26                  38.23529411764706        65\n",
       "27                 39.705882352941174       316\n",
       "28                  41.17647058823529       455\n",
       "29                  42.64705882352941      5270\n",
       "30                  44.11764705882353      3455\n",
       "31                 45.588235294117645      9891\n",
       "32                  47.05882352941176     12579\n",
       "33                 48.529411764705884     14782\n",
       "34                               50.0     13327\n",
       "35                 51.470588235294116      5148\n",
       "36                  52.94117647058824      5775\n",
       "37                  54.41176470588235      3620\n",
       "38                  55.88235294117647      1925\n",
       "39                  57.35294117647059       285\n",
       "40                  58.82352941176471       230\n",
       "41                  60.29411764705882        29\n",
       "42                  61.76470588235294        23\n",
       "43                  63.23529411764706        28\n",
       "44                  64.70588235294117        78\n",
       "45                  66.17647058823529        50\n",
       "46                  67.64705882352942         5\n",
       "47                  69.11764705882352         3\n",
       "48                  70.58823529411765         3"
      ]
     },
     "execution_count": 54,
     "metadata": {},
     "output_type": "execute_result"
    }
   ],
   "source": [
    "nulls_by_row(df)"
   ]
  },
  {
   "cell_type": "markdown",
   "metadata": {},
   "source": [
    "## Takeaways\n",
    "\n",
    "- 2 rows with missing values in 23 colummns\n",
    "- Drop rows that have more than 75% missing values"
   ]
  },
  {
   "cell_type": "markdown",
   "metadata": {},
   "source": [
    "## Prepare"
   ]
  },
  {
   "cell_type": "markdown",
   "metadata": {},
   "source": [
    "### 1. Remove any properties that are likely to be something other than single unit properties. (e.g. no duplexes, no land/lot, ...). There are multiple ways to estimate that a property is a single unit, and there is not a single \"right\" answer. But for this exercise, do not purely filter by unitcnt as we did previously. Add some new logic that will reduce the number of properties that are falsely removed. You might want to use # bedrooms, square feet, unit type or the like to then identify those with unitcnt not defined."
   ]
  },
  {
   "cell_type": "code",
   "execution_count": 55,
   "metadata": {},
   "outputs": [
    {
     "data": {
      "text/plain": [
       "Single Family Residential                     52320\n",
       "Condominium                                   19294\n",
       "Duplex (2 Units, Any Combination)              2009\n",
       "Planned Unit Development                       1944\n",
       "Quadruplex (4 Units, Any Combination)           727\n",
       "Triplex (3 Units, Any Combination)              535\n",
       "Cluster Home                                    333\n",
       "Mobile Home                                      74\n",
       "Manufactured, Modular, Prefabricated Homes       58\n",
       "Residential General                              37\n",
       "Cooperative                                      29\n",
       "Commercial/Office/Residential Mixed Used         15\n",
       "Townhouse                                         6\n",
       "Name: propertylandusedesc, dtype: int64"
      ]
     },
     "execution_count": 55,
     "metadata": {},
     "output_type": "execute_result"
    }
   ],
   "source": [
    "df.propertylandusedesc.value_counts()\n"
   ]
  },
  {
   "cell_type": "code",
   "execution_count": 56,
   "metadata": {},
   "outputs": [],
   "source": [
    "# remove non single unit props\n",
    "df = df[(df.propertylandusedesc == 'Single Family Residential') |\n",
    "          (df.propertylandusedesc == 'Mobile Home') |\n",
    "          (df.propertylandusedesc == 'Manufactured, Modular, Prefabricated Homes') |\n",
    "          (df.propertylandusedesc == 'Townhouse')]"
   ]
  },
  {
   "cell_type": "code",
   "execution_count": 57,
   "metadata": {},
   "outputs": [
    {
     "data": {
      "text/plain": [
       "(52458, 68)"
      ]
     },
     "execution_count": 57,
     "metadata": {},
     "output_type": "execute_result"
    }
   ],
   "source": [
    "# confirm changes and new shape of df\n",
    "df.shape"
   ]
  },
  {
   "cell_type": "markdown",
   "metadata": {},
   "source": [
    "### Check for outliers"
   ]
  },
  {
   "cell_type": "code",
   "execution_count": 58,
   "metadata": {},
   "outputs": [
    {
     "data": {
      "text/plain": [
       "<AxesSubplot:>"
      ]
     },
     "execution_count": 58,
     "metadata": {},
     "output_type": "execute_result"
    },
    {
     "data": {
      "image/png": "[encoded data removed]",
      "text/plain": [
       "<Figure size 432x288 with 1 Axes>"
      ]
     },
     "metadata": {
      "needs_background": "light"
     },
     "output_type": "display_data"
    }
   ],
   "source": [
    "df.boxplot('bedroomcnt')"
   ]
  },
  {
   "cell_type": "code",
   "execution_count": 59,
   "metadata": {},
   "outputs": [
    {
     "data": {
      "text/plain": [
       "<AxesSubplot:>"
      ]
     },
     "execution_count": 59,
     "metadata": {},
     "output_type": "execute_result"
    },
    {
     "data": {
      "image/png": "[encoded data removed]",
      "text/plain": [
       "<Figure size 432x288 with 1 Axes>"
      ]
     },
     "metadata": {
      "needs_background": "light"
     },
     "output_type": "display_data"
    }
   ],
   "source": [
    "df.boxplot('bathroomcnt')"
   ]
  },
  {
   "cell_type": "code",
   "execution_count": 60,
   "metadata": {},
   "outputs": [
    {
     "data": {
      "text/plain": [
       "<AxesSubplot:>"
      ]
     },
     "execution_count": 60,
     "metadata": {},
     "output_type": "execute_result"
    },
    {
     "data": {
      "image/png": "[encoded data removed]",
      "text/plain": [
       "<Figure size 432x288 with 1 Axes>"
      ]
     },
     "metadata": {
      "needs_background": "light"
     },
     "output_type": "display_data"
    }
   ],
   "source": [
    "df.boxplot('calculatedfinishedsquarefeet')"
   ]
  },
  {
   "cell_type": "code",
   "execution_count": 61,
   "metadata": {},
   "outputs": [],
   "source": [
    "def remove_outliers(df, k, col_list):\n",
    "    ''' remove outliers from a list of columns in a dataframe \n",
    "        and return that dataframe\n",
    "    '''\n",
    "    \n",
    "    for col in col_list:\n",
    "        # get quartiles\n",
    "        q1, q3 = df[f'{col}'].quantile([.25, .75])  \n",
    "        # calculate interquartile range\n",
    "        iqr = q3 - q1   \n",
    "        # get upper bound\n",
    "        upper_bound = q3 + k * iqr \n",
    "        # get lower bound\n",
    "        lower_bound = q1 - k * iqr   \n",
    "\n",
    "        # return dataframe without outliers\n",
    "        \n",
    "        df = df[(df[f'{col}'] > lower_bound) & (df[f'{col}'] < upper_bound)]\n",
    "        \n",
    "    return df"
   ]
  },
  {
   "cell_type": "code",
   "execution_count": 62,
   "metadata": {},
   "outputs": [],
   "source": [
    "outlier_cols = ['calculatedfinishedsquarefeet', 'bedroomcnt', 'bathroomcnt']"
   ]
  },
  {
   "cell_type": "code",
   "execution_count": 63,
   "metadata": {},
   "outputs": [],
   "source": [
    "df = remove_outliers(df, 1.5, outlier_cols)"
   ]
  },
  {
   "cell_type": "code",
   "execution_count": 64,
   "metadata": {},
   "outputs": [
    {
     "data": {
      "text/plain": [
       "(48330, 68)"
      ]
     },
     "execution_count": 64,
     "metadata": {},
     "output_type": "execute_result"
    }
   ],
   "source": [
    "df.shape"
   ]
  },
  {
   "cell_type": "markdown",
   "metadata": {},
   "source": [
    "### 2. Create a function that will drop rows or columns based on the percent of values that are missing: handle_missing_values(df, prop_required_column, prop_required_row)."
   ]
  },
  {
   "cell_type": "code",
   "execution_count": 65,
   "metadata": {},
   "outputs": [],
   "source": [
    "def remove_columns(df, cols_to_remove):\n",
    "    df = df.drop(columns=cols_to_remove)\n",
    "    return df\n",
    "                 \n",
    "                 \n",
    "def handle_missing_values(df, prop_required_column=0.5 , prop_required_row=0.75):\n",
    "    threshold = int(round(prop_required_column * len(df.index), 0))\n",
    "    df = df.dropna(axis=1, thresh=threshold)\n",
    "    threshold = int(round(prop_required_row * len(df.columns), 0))\n",
    "    df = df.dropna(axis=0, thresh=threshold)\n",
    "    return df\n",
    "\n",
    "# combined in one function\n",
    "def data_prep(df, cols_to_remove=[], prop_required_column=0.5, prop_required_row=0.75):\n",
    "    df = remove_columns(df, cols_to_remove)\n",
    "    df = handle_missing_values(df, prop_required_column, prop_required_row)\n",
    "    return df\n"
   ]
  },
  {
   "cell_type": "code",
   "execution_count": 66,
   "metadata": {},
   "outputs": [],
   "source": [
    "df = data_prep(df)"
   ]
  },
  {
   "cell_type": "code",
   "execution_count": 67,
   "metadata": {},
   "outputs": [
    {
     "data": {
      "text/plain": [
       "(48327, 34)"
      ]
     },
     "execution_count": 67,
     "metadata": {},
     "output_type": "execute_result"
    }
   ],
   "source": [
    "df.shape"
   ]
  },
  {
   "cell_type": "markdown",
   "metadata": {},
   "source": [
    "### Decide how to handle remaining nulls"
   ]
  },
  {
   "cell_type": "code",
   "execution_count": 68,
   "metadata": {},
   "outputs": [
    {
     "data": {
      "text/plain": [
       "heatingorsystemtypeid         16766\n",
       "buildingqualitytypeid         16847\n",
       "calculatedbathnbr                14\n",
       "finishedsquarefeet12            154\n",
       "fullbathcnt                      14\n",
       "lotsizesquarefeet               257\n",
       "propertyzoningdesc            16858\n",
       "regionidcity                    898\n",
       "regionidzip                      15\n",
       "unitcnt                       16839\n",
       "yearbuilt                        21\n",
       "structuretaxvaluedollarcnt       61\n",
       "taxvaluedollarcnt                 1\n",
       "landtaxvaluedollarcnt             1\n",
       "taxamount                         4\n",
       "censustractandblock              79\n",
       "heatingorsystemdesc           16766\n",
       "dtype: int64"
      ]
     },
     "execution_count": 68,
     "metadata": {},
     "output_type": "execute_result"
    }
   ],
   "source": [
    "# find cols with nulls\n",
    "df.isnull().sum()[df.isnull().sum() > 0]"
   ]
  },
  {
   "cell_type": "code",
   "execution_count": 69,
   "metadata": {},
   "outputs": [
    {
     "data": {
      "text/plain": [
       "heatingorsystemtypeid    16766\n",
       "buildingqualitytypeid    16847\n",
       "propertyzoningdesc       16858\n",
       "unitcnt                  16839\n",
       "heatingorsystemdesc      16766\n",
       "dtype: int64"
      ]
     },
     "execution_count": 69,
     "metadata": {},
     "output_type": "execute_result"
    }
   ],
   "source": [
    "# look at cols with large amounts of nulls\n",
    "df.isnull().sum()[df.isnull().sum()>16000]"
   ]
  },
  {
   "cell_type": "code",
   "execution_count": 70,
   "metadata": {},
   "outputs": [],
   "source": [
    "cols_with_nulls = ['heatingorsystemtypeid', 'buildingqualitytypeid',\n",
    "                  'propertyzoningdesc', 'unitcnt', 'heatingorsystemdesc']"
   ]
  },
  {
   "cell_type": "code",
   "execution_count": 71,
   "metadata": {},
   "outputs": [
    {
     "name": "stdout",
     "output_type": "stream",
     "text": [
      "heatingorsystemtypeid\n",
      "2.0     18900\n",
      "NaN     16766\n",
      "7.0     12078\n",
      "6.0       483\n",
      "20.0       68\n",
      "13.0       16\n",
      "1.0         7\n",
      "18.0        6\n",
      "10.0        2\n",
      "24.0        1\n",
      "Name: heatingorsystemtypeid, dtype: int64\n",
      "buildingqualitytypeid\n",
      "NaN     16847\n",
      "6.0     10156\n",
      "8.0      8078\n",
      "4.0      7958\n",
      "7.0      3009\n",
      "5.0      1286\n",
      "9.0       669\n",
      "11.0      152\n",
      "3.0       113\n",
      "10.0       45\n",
      "12.0        9\n",
      "1.0         4\n",
      "2.0         1\n",
      "Name: buildingqualitytypeid, dtype: int64\n",
      "propertyzoningdesc\n",
      "NaN           16858\n",
      "LAR1           6111\n",
      "LARS           1349\n",
      "LBR1N          1082\n",
      "SCUR2           699\n",
      "              ...  \n",
      "LAR1-1(T)-        1\n",
      "LOR1P*            1\n",
      "WHP*              1\n",
      "ESR3YY            1\n",
      "PACM*             1\n",
      "Name: propertyzoningdesc, Length: 1230, dtype: int64\n",
      "unitcnt\n",
      "1.0    31469\n",
      "NaN    16839\n",
      "2.0       18\n",
      "3.0        1\n",
      "Name: unitcnt, dtype: int64\n",
      "heatingorsystemdesc\n",
      "Central       18900\n",
      "NaN           16766\n",
      "Floor/Wall    12078\n",
      "Forced air      483\n",
      "Solar            68\n",
      "None             16\n",
      "Baseboard         7\n",
      "Radiant           6\n",
      "Gravity           2\n",
      "Yes               1\n",
      "Name: heatingorsystemdesc, dtype: int64\n"
     ]
    }
   ],
   "source": [
    "# value counts for cals with large amounts of nulls\n",
    "\n",
    "for col in cols_with_nulls:\n",
    "    print(col)\n",
    "    print(df[col].value_counts(dropna=False))\n",
    "    "
   ]
  },
  {
   "cell_type": "code",
   "execution_count": 72,
   "metadata": {},
   "outputs": [],
   "source": [
    "# drop columns with too many nulls \n",
    "\n",
    "df = df.drop(columns=['heatingorsystemtypeid', 'buildingqualitytypeid',\n",
    "                  'propertyzoningdesc', 'unitcnt', 'heatingorsystemdesc'])"
   ]
  },
  {
   "cell_type": "code",
   "execution_count": 73,
   "metadata": {},
   "outputs": [
    {
     "data": {
      "text/plain": [
       "(48327, 29)"
      ]
     },
     "execution_count": 73,
     "metadata": {},
     "output_type": "execute_result"
    }
   ],
   "source": [
    "df.shape"
   ]
  },
  {
   "cell_type": "code",
   "execution_count": 74,
   "metadata": {},
   "outputs": [
    {
     "data": {
      "text/plain": [
       "calculatedbathnbr              14\n",
       "finishedsquarefeet12          154\n",
       "fullbathcnt                    14\n",
       "lotsizesquarefeet             257\n",
       "regionidcity                  898\n",
       "regionidzip                    15\n",
       "yearbuilt                      21\n",
       "structuretaxvaluedollarcnt     61\n",
       "taxvaluedollarcnt               1\n",
       "landtaxvaluedollarcnt           1\n",
       "taxamount                       4\n",
       "censustractandblock            79\n",
       "dtype: int64"
      ]
     },
     "execution_count": 74,
     "metadata": {},
     "output_type": "execute_result"
    }
   ],
   "source": [
    "# remaining nulls\n",
    "df.isnull().sum()[df.isnull().sum() > 0]"
   ]
  },
  {
   "cell_type": "code",
   "execution_count": 75,
   "metadata": {},
   "outputs": [],
   "source": [
    "cat_cols = ['calculatedbathnbr','fullbathcnt', 'regionidcity', 'regionidzip',\n",
    "           'censustractandblock']"
   ]
  },
  {
   "cell_type": "code",
   "execution_count": 76,
   "metadata": {},
   "outputs": [
    {
     "name": "stdout",
     "output_type": "stream",
     "text": [
      "calculatedbathnbr\n",
      "2.0    21800\n",
      "3.0    10356\n",
      "1.0     8979\n",
      "2.5     3900\n",
      "4.0     1689\n",
      "1.5      831\n",
      "3.5      758\n",
      "NaN       14\n",
      "Name: calculatedbathnbr, dtype: int64\n",
      "fullbathcnt\n",
      "2.0    25711\n",
      "3.0    11115\n",
      "1.0     9810\n",
      "4.0     1677\n",
      "NaN       14\n",
      "Name: fullbathcnt, dtype: int64\n",
      "regionidcity\n",
      "12447.0    10369\n",
      "5534.0      1743\n",
      "40227.0     1460\n",
      "46298.0     1362\n",
      "16764.0     1037\n",
      "           ...  \n",
      "31134.0        2\n",
      "53162.0        1\n",
      "21395.0        1\n",
      "10815.0        1\n",
      "36078.0        1\n",
      "Name: regionidcity, Length: 176, dtype: int64\n",
      "regionidzip\n",
      "97319.0    742\n",
      "97318.0    663\n",
      "97329.0    542\n",
      "97328.0    515\n",
      "97118.0    460\n",
      "          ... \n",
      "96434.0      2\n",
      "97092.0      1\n",
      "96038.0      1\n",
      "96467.0      1\n",
      "96148.0      1\n",
      "Name: regionidzip, Length: 379, dtype: int64\n",
      "censustractandblock\n",
      "NaN             79\n",
      "6.037920e+13    32\n",
      "6.059032e+13    21\n",
      "6.037920e+13    20\n",
      "6.037901e+13    20\n",
      "                ..\n",
      "6.037571e+13     1\n",
      "6.037300e+13     1\n",
      "6.037185e+13     1\n",
      "6.037107e+13     1\n",
      "6.111001e+13     1\n",
      "Name: censustractandblock, Length: 29910, dtype: int64\n"
     ]
    }
   ],
   "source": [
    "# get value counts for discrete cols\n",
    "\n",
    "for col in cat_cols:\n",
    "    print(col)\n",
    "    print(df[col].value_counts(dropna=False))"
   ]
  },
  {
   "cell_type": "markdown",
   "metadata": {},
   "source": [
    "- other missing values will be imputed. This will be done after splitting the data. "
   ]
  },
  {
   "cell_type": "code",
   "execution_count": 77,
   "metadata": {},
   "outputs": [],
   "source": [
    "# split df\n",
    "train, validate, test = wz.split_data(df)"
   ]
  },
  {
   "cell_type": "code",
   "execution_count": 78,
   "metadata": {},
   "outputs": [
    {
     "data": {
      "text/plain": [
       "calculatedbathnbr               6\n",
       "finishedsquarefeet12           85\n",
       "fullbathcnt                     6\n",
       "lotsizesquarefeet             150\n",
       "regionidcity                  516\n",
       "regionidzip                     9\n",
       "yearbuilt                      14\n",
       "structuretaxvaluedollarcnt     30\n",
       "taxamount                       3\n",
       "censustractandblock            44\n",
       "dtype: int64"
      ]
     },
     "execution_count": 78,
     "metadata": {},
     "output_type": "execute_result"
    }
   ],
   "source": [
    "# checks nulls in train split\n",
    "train.isnull().sum()[train.isnull().sum()>0]"
   ]
  },
  {
   "cell_type": "code",
   "execution_count": 36,
   "metadata": {},
   "outputs": [
    {
     "data": {
      "text/html": [
       "<div>\n",
       "<style scoped>\n",
       "    .dataframe tbody tr th:only-of-type {\n",
       "        vertical-align: middle;\n",
       "    }\n",
       "\n",
       "    .dataframe tbody tr th {\n",
       "        vertical-align: top;\n",
       "    }\n",
       "\n",
       "    .dataframe thead th {\n",
       "        text-align: right;\n",
       "    }\n",
       "</style>\n",
       "<table border=\"1\" class=\"dataframe\">\n",
       "  <thead>\n",
       "    <tr style=\"text-align: right;\">\n",
       "      <th></th>\n",
       "      <th>parcelid</th>\n",
       "      <th>id</th>\n",
       "      <th>logerror</th>\n",
       "      <th>transactiondate</th>\n",
       "      <th>bathroomcnt</th>\n",
       "      <th>bedroomcnt</th>\n",
       "      <th>calculatedbathnbr</th>\n",
       "      <th>calculatedfinishedsquarefeet</th>\n",
       "      <th>finishedsquarefeet12</th>\n",
       "      <th>fips</th>\n",
       "      <th>...</th>\n",
       "      <th>regionidzip</th>\n",
       "      <th>roomcnt</th>\n",
       "      <th>yearbuilt</th>\n",
       "      <th>structuretaxvaluedollarcnt</th>\n",
       "      <th>taxvaluedollarcnt</th>\n",
       "      <th>assessmentyear</th>\n",
       "      <th>landtaxvaluedollarcnt</th>\n",
       "      <th>taxamount</th>\n",
       "      <th>censustractandblock</th>\n",
       "      <th>propertylandusedesc</th>\n",
       "    </tr>\n",
       "  </thead>\n",
       "  <tbody>\n",
       "    <tr>\n",
       "      <th>48481</th>\n",
       "      <td>14324605</td>\n",
       "      <td>48500</td>\n",
       "      <td>0.121156</td>\n",
       "      <td>2017-06-20</td>\n",
       "      <td>4.0</td>\n",
       "      <td>4.0</td>\n",
       "      <td>4.0</td>\n",
       "      <td>2918.0</td>\n",
       "      <td>2918.0</td>\n",
       "      <td>6059.0</td>\n",
       "      <td>...</td>\n",
       "      <td>96957.0</td>\n",
       "      <td>7.0</td>\n",
       "      <td>2006.0</td>\n",
       "      <td>683277.0</td>\n",
       "      <td>2862804.0</td>\n",
       "      <td>2016.0</td>\n",
       "      <td>2179527.0</td>\n",
       "      <td>30394.08</td>\n",
       "      <td>6.059063e+13</td>\n",
       "      <td>Single Family Residential</td>\n",
       "    </tr>\n",
       "    <tr>\n",
       "      <th>55982</th>\n",
       "      <td>14002345</td>\n",
       "      <td>56004</td>\n",
       "      <td>0.016625</td>\n",
       "      <td>2017-07-11</td>\n",
       "      <td>1.5</td>\n",
       "      <td>3.0</td>\n",
       "      <td>1.5</td>\n",
       "      <td>1276.0</td>\n",
       "      <td>1276.0</td>\n",
       "      <td>6059.0</td>\n",
       "      <td>...</td>\n",
       "      <td>96203.0</td>\n",
       "      <td>6.0</td>\n",
       "      <td>1964.0</td>\n",
       "      <td>29668.0</td>\n",
       "      <td>46187.0</td>\n",
       "      <td>2016.0</td>\n",
       "      <td>16519.0</td>\n",
       "      <td>870.70</td>\n",
       "      <td>6.059088e+13</td>\n",
       "      <td>Single Family Residential</td>\n",
       "    </tr>\n",
       "    <tr>\n",
       "      <th>36075</th>\n",
       "      <td>11768209</td>\n",
       "      <td>36090</td>\n",
       "      <td>-0.235871</td>\n",
       "      <td>2017-05-15</td>\n",
       "      <td>1.0</td>\n",
       "      <td>2.0</td>\n",
       "      <td>1.0</td>\n",
       "      <td>804.0</td>\n",
       "      <td>804.0</td>\n",
       "      <td>6037.0</td>\n",
       "      <td>...</td>\n",
       "      <td>95992.0</td>\n",
       "      <td>0.0</td>\n",
       "      <td>1905.0</td>\n",
       "      <td>31780.0</td>\n",
       "      <td>58845.0</td>\n",
       "      <td>2016.0</td>\n",
       "      <td>27065.0</td>\n",
       "      <td>772.83</td>\n",
       "      <td>6.037228e+13</td>\n",
       "      <td>Single Family Residential</td>\n",
       "    </tr>\n",
       "    <tr>\n",
       "      <th>67163</th>\n",
       "      <td>11301907</td>\n",
       "      <td>67191</td>\n",
       "      <td>-0.072828</td>\n",
       "      <td>2017-08-16</td>\n",
       "      <td>3.0</td>\n",
       "      <td>3.0</td>\n",
       "      <td>3.0</td>\n",
       "      <td>1487.0</td>\n",
       "      <td>1487.0</td>\n",
       "      <td>6037.0</td>\n",
       "      <td>...</td>\n",
       "      <td>97318.0</td>\n",
       "      <td>0.0</td>\n",
       "      <td>1990.0</td>\n",
       "      <td>152500.0</td>\n",
       "      <td>181000.0</td>\n",
       "      <td>2016.0</td>\n",
       "      <td>28500.0</td>\n",
       "      <td>3029.74</td>\n",
       "      <td>6.037901e+13</td>\n",
       "      <td>Single Family Residential</td>\n",
       "    </tr>\n",
       "    <tr>\n",
       "      <th>26328</th>\n",
       "      <td>12346075</td>\n",
       "      <td>26341</td>\n",
       "      <td>0.012575</td>\n",
       "      <td>2017-04-14</td>\n",
       "      <td>3.0</td>\n",
       "      <td>3.0</td>\n",
       "      <td>3.0</td>\n",
       "      <td>1072.0</td>\n",
       "      <td>1072.0</td>\n",
       "      <td>6037.0</td>\n",
       "      <td>...</td>\n",
       "      <td>96208.0</td>\n",
       "      <td>0.0</td>\n",
       "      <td>1956.0</td>\n",
       "      <td>120100.0</td>\n",
       "      <td>379521.0</td>\n",
       "      <td>2016.0</td>\n",
       "      <td>259421.0</td>\n",
       "      <td>4486.93</td>\n",
       "      <td>6.037554e+13</td>\n",
       "      <td>Single Family Residential</td>\n",
       "    </tr>\n",
       "  </tbody>\n",
       "</table>\n",
       "<p>5 rows × 29 columns</p>\n",
       "</div>"
      ],
      "text/plain": [
       "       parcelid     id  logerror transactiondate  bathroomcnt  bedroomcnt  \\\n",
       "48481  14324605  48500  0.121156      2017-06-20          4.0         4.0   \n",
       "55982  14002345  56004  0.016625      2017-07-11          1.5         3.0   \n",
       "36075  11768209  36090 -0.235871      2017-05-15          1.0         2.0   \n",
       "67163  11301907  67191 -0.072828      2017-08-16          3.0         3.0   \n",
       "26328  12346075  26341  0.012575      2017-04-14          3.0         3.0   \n",
       "\n",
       "       calculatedbathnbr  calculatedfinishedsquarefeet  finishedsquarefeet12  \\\n",
       "48481                4.0                        2918.0                2918.0   \n",
       "55982                1.5                        1276.0                1276.0   \n",
       "36075                1.0                         804.0                 804.0   \n",
       "67163                3.0                        1487.0                1487.0   \n",
       "26328                3.0                        1072.0                1072.0   \n",
       "\n",
       "         fips  ...  regionidzip  roomcnt  yearbuilt  \\\n",
       "48481  6059.0  ...      96957.0      7.0     2006.0   \n",
       "55982  6059.0  ...      96203.0      6.0     1964.0   \n",
       "36075  6037.0  ...      95992.0      0.0     1905.0   \n",
       "67163  6037.0  ...      97318.0      0.0     1990.0   \n",
       "26328  6037.0  ...      96208.0      0.0     1956.0   \n",
       "\n",
       "       structuretaxvaluedollarcnt taxvaluedollarcnt  assessmentyear  \\\n",
       "48481                    683277.0         2862804.0          2016.0   \n",
       "55982                     29668.0           46187.0          2016.0   \n",
       "36075                     31780.0           58845.0          2016.0   \n",
       "67163                    152500.0          181000.0          2016.0   \n",
       "26328                    120100.0          379521.0          2016.0   \n",
       "\n",
       "       landtaxvaluedollarcnt  taxamount  censustractandblock  \\\n",
       "48481              2179527.0   30394.08         6.059063e+13   \n",
       "55982                16519.0     870.70         6.059088e+13   \n",
       "36075                27065.0     772.83         6.037228e+13   \n",
       "67163                28500.0    3029.74         6.037901e+13   \n",
       "26328               259421.0    4486.93         6.037554e+13   \n",
       "\n",
       "             propertylandusedesc  \n",
       "48481  Single Family Residential  \n",
       "55982  Single Family Residential  \n",
       "36075  Single Family Residential  \n",
       "67163  Single Family Residential  \n",
       "26328  Single Family Residential  \n",
       "\n",
       "[5 rows x 29 columns]"
      ]
     },
     "execution_count": 36,
     "metadata": {},
     "output_type": "execute_result"
    }
   ],
   "source": [
    "train.head()"
   ]
  },
  {
   "cell_type": "code",
   "execution_count": 79,
   "metadata": {},
   "outputs": [],
   "source": [
    "# impute missing values using most frequent for cat cols\n",
    "\n",
    "def impute(df, my_strategy, column_list):\n",
    "    ''' takes in a df, strategy, and cloumn list\n",
    "        return df with listed columns imputed using imputing stratagy\n",
    "    '''\n",
    "    # build imputer    \n",
    "    imputer = SimpleImputer(strategy=my_strategy)  \n",
    "    # fit/transform selected columns\n",
    "    df[column_list] = imputer.fit_transform(df[column_list]) \n",
    "\n",
    "    return df"
   ]
  },
  {
   "cell_type": "code",
   "execution_count": 80,
   "metadata": {},
   "outputs": [
    {
     "data": {
      "text/plain": [
       "['calculatedbathnbr',\n",
       " 'fullbathcnt',\n",
       " 'regionidcity',\n",
       " 'regionidzip',\n",
       " 'censustractandblock']"
      ]
     },
     "execution_count": 80,
     "metadata": {},
     "output_type": "execute_result"
    }
   ],
   "source": [
    "cat_cols"
   ]
  },
  {
   "cell_type": "code",
   "execution_count": 81,
   "metadata": {},
   "outputs": [],
   "source": [
    "train = impute(train, 'most_frequent', \n",
    "            cat_cols)\n"
   ]
  },
  {
   "cell_type": "markdown",
   "metadata": {},
   "source": [
    "- no NaN values so the desired changes have been applied and imputed values applied"
   ]
  },
  {
   "cell_type": "code",
   "execution_count": 82,
   "metadata": {},
   "outputs": [
    {
     "data": {
      "text/plain": [
       "calculatedbathnbr               0\n",
       "finishedsquarefeet12           85\n",
       "fullbathcnt                     0\n",
       "lotsizesquarefeet             150\n",
       "regionidcity                    0\n",
       "regionidzip                     0\n",
       "yearbuilt                      14\n",
       "structuretaxvaluedollarcnt     30\n",
       "taxvaluedollarcnt               0\n",
       "landtaxvaluedollarcnt           0\n",
       "taxamount                       3\n",
       "censustractandblock             0\n",
       "dtype: int64"
      ]
     },
     "execution_count": 82,
     "metadata": {},
     "output_type": "execute_result"
    }
   ],
   "source": [
    "# confirm changes and check remaining nulls\n",
    "train.isnull().sum()[df.isnull().sum()>0]"
   ]
  },
  {
   "cell_type": "code",
   "execution_count": 84,
   "metadata": {},
   "outputs": [],
   "source": [
    "cont_cols = ['finishedsquarefeet12', 'lotsizesquarefeet', 'yearbuilt', \n",
    "            'structuretaxvaluedollarcnt', 'taxamount']"
   ]
  },
  {
   "cell_type": "code",
   "execution_count": 86,
   "metadata": {},
   "outputs": [],
   "source": [
    "# replace continuous columns with median \n",
    "\n",
    "train = impute(train, 'median', cont_cols)"
   ]
  },
  {
   "cell_type": "code",
   "execution_count": 88,
   "metadata": {},
   "outputs": [
    {
     "data": {
      "text/plain": [
       "calculatedbathnbr        0\n",
       "fullbathcnt              0\n",
       "regionidcity             0\n",
       "regionidzip              0\n",
       "taxvaluedollarcnt        0\n",
       "landtaxvaluedollarcnt    0\n",
       "censustractandblock      0\n",
       "dtype: int64"
      ]
     },
     "execution_count": 88,
     "metadata": {},
     "output_type": "execute_result"
    }
   ],
   "source": [
    "# confirm changes and check any remaining nulls\n",
    "train.isnull().sum()[df.isnull().sum()>0]"
   ]
  },
  {
   "cell_type": "code",
   "execution_count": 89,
   "metadata": {},
   "outputs": [
    {
     "data": {
      "text/plain": [
       "parcelid                          0\n",
       "id                                0\n",
       "logerror                          0\n",
       "transactiondate                   0\n",
       "bathroomcnt                       0\n",
       "bedroomcnt                        0\n",
       "calculatedbathnbr                14\n",
       "calculatedfinishedsquarefeet      0\n",
       "finishedsquarefeet12              0\n",
       "fips                              0\n",
       "fullbathcnt                      14\n",
       "latitude                          0\n",
       "longitude                         0\n",
       "lotsizesquarefeet                 0\n",
       "propertycountylandusecode         0\n",
       "propertylandusetypeid             0\n",
       "rawcensustractandblock            0\n",
       "regionidcity                    898\n",
       "regionidcounty                    0\n",
       "regionidzip                      15\n",
       "roomcnt                           0\n",
       "yearbuilt                         0\n",
       "structuretaxvaluedollarcnt        0\n",
       "taxvaluedollarcnt                 1\n",
       "assessmentyear                    0\n",
       "landtaxvaluedollarcnt             1\n",
       "taxamount                         0\n",
       "censustractandblock              79\n",
       "propertylandusedesc               0\n",
       "dtype: int64"
      ]
     },
     "execution_count": 89,
     "metadata": {},
     "output_type": "execute_result"
    }
   ],
   "source": [
    "# no more nulls\n",
    "df.isnull().sum()\n"
   ]
  },
  {
   "cell_type": "markdown",
   "metadata": {},
   "source": [
    "- wrangle zillow functions can be f"
   ]
  }
 ],
 "metadata": {
  "kernelspec": {
   "display_name": "Python 3",
   "language": "python",
   "name": "python3"
  },
  "language_info": {
   "codemirror_mode": {
    "name": "ipython",
    "version": 3
   },
   "file_extension": ".py",
   "mimetype": "text/x-python",
   "name": "python",
   "nbconvert_exporter": "python",
   "pygments_lexer": "ipython3",
   "version": "3.8.5"
  }
 },
 "nbformat": 4,
 "nbformat_minor": 4
}
